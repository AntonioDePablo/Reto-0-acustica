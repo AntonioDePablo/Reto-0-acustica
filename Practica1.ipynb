{
  "nbformat": 4,
  "nbformat_minor": 0,
  "metadata": {
    "colab": {
      "name": "Practica1.ipynb",
      "provenance": [],
      "authorship_tag": "ABX9TyPOkTxi9qe9M/H7edIiru1R",
      "include_colab_link": true
    },
    "kernelspec": {
      "name": "python3",
      "display_name": "Python 3"
    }
  },
  "cells": [
    {
      "cell_type": "markdown",
      "metadata": {
        "id": "view-in-github",
        "colab_type": "text"
      },
      "source": [
        "<a href=\"https://colab.research.google.com/github/AntonioDePablo/Reto-0-acustica/blob/main/Practica1.ipynb\" target=\"_parent\"><img src=\"https://colab.research.google.com/assets/colab-badge.svg\" alt=\"Open In Colab\"/></a>"
      ]
    },
    {
      "cell_type": "markdown",
      "metadata": {
        "id": "c6JohCLkix1o"
      },
      "source": [
        "**laboratorio phyton sonidos**"
      ]
    },
    {
      "cell_type": "code",
      "metadata": {
        "id": "rmTvsmgXgvcG"
      },
      "source": [
        "# Get thinkdsp.py\n",
        "\n",
        "import os\n",
        "\n",
        "if not os.path.exists('thinkdsp.py'):\n",
        "    !wget https://github.com/AllenDowney/ThinkDSP/raw/master/code/thinkdsp.py"
      ],
      "execution_count": 2,
      "outputs": []
    },
    {
      "cell_type": "code",
      "metadata": {
        "id": "NlNN06ZfjNDF",
        "outputId": "e4749892-9870-4f6d-bf1d-f2f173ddbf67",
        "colab": {
          "base_uri": "https://localhost:8080/",
          "height": 204
        }
      },
      "source": [
        "if not os.path.exists('10000soundssongs/WAV/CARBY2.wav'):\n",
        "    !wget http://cd.textfiles.com/10000soundssongs/WAV/CARBY2.WAV"
      ],
      "execution_count": 9,
      "outputs": [
        {
          "output_type": "stream",
          "text": [
            "--2020-10-02 09:20:48--  http://cd.textfiles.com/10000soundssongs/WAV/CARBY2.WAV\n",
            "Resolving cd.textfiles.com (cd.textfiles.com)... 208.86.224.90\n",
            "Connecting to cd.textfiles.com (cd.textfiles.com)|208.86.224.90|:80... connected.\n",
            "HTTP request sent, awaiting response... 200 OK\n",
            "Length: 291432 (285K) [audio/x-wav]\n",
            "Saving to: ‘CARBY2.WAV’\n",
            "\n",
            "CARBY2.WAV          100%[===================>] 284.60K   222KB/s    in 1.3s    \n",
            "\n",
            "2020-10-02 09:20:50 (222 KB/s) - ‘CARBY2.WAV’ saved [291432/291432]\n",
            "\n"
          ],
          "name": "stdout"
        }
      ]
    },
    {
      "cell_type": "markdown",
      "metadata": {
        "id": "Ttjw_JlNjNdE"
      },
      "source": [
        "Este codigo sirve para cargar la fuente que vamos a analizar"
      ]
    }
  ]
}